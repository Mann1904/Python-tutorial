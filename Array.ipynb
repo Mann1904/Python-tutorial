{
 "cells": [
  {
   "cell_type": "markdown",
   "metadata": {},
   "source": [
    "# Array"
   ]
  },
  {
   "cell_type": "code",
   "execution_count": 1,
   "metadata": {},
   "outputs": [
    {
     "name": "stdout",
     "output_type": "stream",
     "text": [
      "array('I', [1, 2, 3, 4])\n"
     ]
    }
   ],
   "source": [
    "import array as arr\n",
    "a = arr.array('I',[1,2,3,4]) #'I' for unsigned integer\n",
    "print(a)"
   ]
  },
  {
   "cell_type": "code",
   "execution_count": 30,
   "metadata": {},
   "outputs": [
    {
     "name": "stdout",
     "output_type": "stream",
     "text": [
      "(2451648551568, 4)\n",
      "4\n"
     ]
    }
   ],
   "source": [
    "# find address of array & size\n",
    "print(a.buffer_info())\n",
    "print(a.itemsize)"
   ]
  },
  {
   "cell_type": "code",
   "execution_count": 3,
   "metadata": {},
   "outputs": [
    {
     "name": "stdout",
     "output_type": "stream",
     "text": [
      "I\n"
     ]
    }
   ],
   "source": [
    "# type\n",
    "print(a.typecode)"
   ]
  },
  {
   "cell_type": "code",
   "execution_count": 11,
   "metadata": {},
   "outputs": [
    {
     "name": "stdout",
     "output_type": "stream",
     "text": [
      "array('I', [4, 3, 2, 1])\n"
     ]
    }
   ],
   "source": [
    "# reverse the array\n",
    "a.reverse() \n",
    "print(a)"
   ]
  },
  {
   "cell_type": "code",
   "execution_count": 12,
   "metadata": {},
   "outputs": [
    {
     "name": "stdout",
     "output_type": "stream",
     "text": [
      "None\n"
     ]
    }
   ],
   "source": [
    "# reverse not return value\n",
    "print(a.reverse())"
   ]
  },
  {
   "cell_type": "code",
   "execution_count": 28,
   "metadata": {},
   "outputs": [
    {
     "name": "stdout",
     "output_type": "stream",
     "text": [
      "array('d', [2.1, 3.44, 5.9])\n",
      "0\n",
      "array('d', [2.1, 3.44, 5.9, 2.67])\n",
      "array('d', [2.1, 3.44, 5.9, 2.67, 4.5, 7.8, 9.01])\n",
      "array('d', [2.1, 3.44, 5.9, 2.67, 4.5, 9.01])\n",
      "array('d', [2.1, 2.67, 4.5, 9.01])\n"
     ]
    },
    {
     "ename": "NameError",
     "evalue": "name 'A' is not defined",
     "output_type": "error",
     "traceback": [
      "\u001b[1;31m---------------------------------------------------------------------------\u001b[0m",
      "\u001b[1;31mNameError\u001b[0m                                 Traceback (most recent call last)",
      "\u001b[1;32m<ipython-input-28-080f077517e9>\u001b[0m in \u001b[0;36m<module>\u001b[1;34m\u001b[0m\n\u001b[0;32m     17\u001b[0m \u001b[1;33m\u001b[0m\u001b[0m\n\u001b[0;32m     18\u001b[0m \u001b[1;32mdel\u001b[0m \u001b[0mA\u001b[0m\u001b[1;33m\u001b[0m\u001b[1;33m\u001b[0m\u001b[0m\n\u001b[1;32m---> 19\u001b[1;33m \u001b[0mprint\u001b[0m\u001b[1;33m(\u001b[0m\u001b[0mA\u001b[0m\u001b[1;33m)\u001b[0m \u001b[1;31m# Error name 'A' is not defined\u001b[0m\u001b[1;33m\u001b[0m\u001b[1;33m\u001b[0m\u001b[0m\n\u001b[0m",
      "\u001b[1;31mNameError\u001b[0m: name 'A' is not defined"
     ]
    }
   ],
   "source": [
    "A = arr.array('d',[2.10,3.44,5.9])\n",
    "print(A)\n",
    "\n",
    "print(A.index(2.10))\n",
    "\n",
    "A.append(2.67)\n",
    "print(A)\n",
    "\n",
    "A.extend([4.5,7.8,9.01])\n",
    "print(A)\n",
    "\n",
    "A.remove(7.8)\n",
    "print(A)\n",
    "\n",
    "del A[1:3]\n",
    "print(A)\n",
    "\n",
    "del A\n",
    "print(A) # Error name 'A' is not defined"
   ]
  },
  {
   "cell_type": "code",
   "execution_count": 31,
   "metadata": {},
   "outputs": [
    {
     "name": "stdout",
     "output_type": "stream",
     "text": [
      "[3, 56, 8, 9, 1]\n"
     ]
    }
   ],
   "source": [
    "# Array convert to list\n",
    "num = arr.array('I',[3,56,8,9,1])\n",
    "print(num.tolist())"
   ]
  }
 ],
 "metadata": {
  "kernelspec": {
   "display_name": "Python 3",
   "language": "python",
   "name": "python3"
  },
  "language_info": {
   "codemirror_mode": {
    "name": "ipython",
    "version": 3
   },
   "file_extension": ".py",
   "mimetype": "text/x-python",
   "name": "python",
   "nbconvert_exporter": "python",
   "pygments_lexer": "ipython3",
   "version": "3.7.5"
  }
 },
 "nbformat": 4,
 "nbformat_minor": 2
}
