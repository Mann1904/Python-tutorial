{
 "cells": [
  {
   "cell_type": "markdown",
   "metadata": {},
   "source": [
    "# Dictionaries"
   ]
  },
  {
   "cell_type": "markdown",
   "metadata": {},
   "source": [
    "We use dictionaries to store key/value pairs. (key is unique) we can use strings or numbers to define keys."
   ]
  },
  {
   "cell_type": "markdown",
   "metadata": {},
   "source": [
    "# Applying dictionaries"
   ]
  },
  {
   "cell_type": "code",
   "execution_count": 1,
   "metadata": {},
   "outputs": [
    {
     "name": "stdout",
     "output_type": "stream",
     "text": [
      "{'name': 'Mann', 'age': '19', 'is_verified': 'True'}\n"
     ]
    }
   ],
   "source": [
    "# Method 1\n",
    "customer = {'name':'Mann', 'age':'19', 'is_verified':'True'}\n",
    "print(customer)"
   ]
  },
  {
   "cell_type": "code",
   "execution_count": 3,
   "metadata": {},
   "outputs": [
    {
     "name": "stdout",
     "output_type": "stream",
     "text": [
      "{'name': 'Mann', 'age': '19'}\n"
     ]
    }
   ],
   "source": [
    "# Method 2\n",
    "customer = dict(name='Mann', age='19')\n",
    "print(customer)"
   ]
  },
  {
   "cell_type": "code",
   "execution_count": 4,
   "metadata": {},
   "outputs": [
    {
     "name": "stdout",
     "output_type": "stream",
     "text": [
      "{'name': 'Mann', 'age': '19'}\n"
     ]
    }
   ],
   "source": [
    "# Method 3\n",
    "customer = dict([('name','Mann'),('age','19')])\n",
    "print(customer)"
   ]
  },
  {
   "cell_type": "code",
   "execution_count": 5,
   "metadata": {},
   "outputs": [
    {
     "name": "stdout",
     "output_type": "stream",
     "text": [
      "{'name': 'Mann', 'age': '19'}\n"
     ]
    }
   ],
   "source": [
    "# Method 4\n",
    "customer = dict(zip(['name','age'],['Mann','19']))\n",
    "print(customer)"
   ]
  },
  {
   "cell_type": "markdown",
   "metadata": {},
   "source": [
    "# Find value through key"
   ]
  },
  {
   "cell_type": "code",
   "execution_count": 6,
   "metadata": {},
   "outputs": [
    {
     "name": "stdout",
     "output_type": "stream",
     "text": [
      "Mann\n"
     ]
    }
   ],
   "source": [
    "customer = {'name':'Mann', 'age':'19', 'is_verified':'True'}\n",
    "print(customer['name'])"
   ]
  },
  {
   "cell_type": "code",
   "execution_count": 11,
   "metadata": {},
   "outputs": [
    {
     "ename": "KeyError",
     "evalue": "'sr_no'",
     "output_type": "error",
     "traceback": [
      "\u001b[1;31m---------------------------------------------------------------------------\u001b[0m",
      "\u001b[1;31mKeyError\u001b[0m                                  Traceback (most recent call last)",
      "\u001b[1;32m<ipython-input-11-2707a457dc13>\u001b[0m in \u001b[0;36m<module>\u001b[1;34m\u001b[0m\n\u001b[0;32m      1\u001b[0m \u001b[1;31m#invalid key generate error\u001b[0m\u001b[1;33m\u001b[0m\u001b[1;33m\u001b[0m\u001b[1;33m\u001b[0m\u001b[0m\n\u001b[0;32m      2\u001b[0m \u001b[0mcustomer\u001b[0m \u001b[1;33m=\u001b[0m \u001b[1;33m{\u001b[0m\u001b[1;34m'name'\u001b[0m\u001b[1;33m:\u001b[0m\u001b[1;34m'Mann'\u001b[0m\u001b[1;33m,\u001b[0m \u001b[1;34m'age'\u001b[0m\u001b[1;33m:\u001b[0m\u001b[1;34m'19'\u001b[0m\u001b[1;33m,\u001b[0m \u001b[1;34m'is_verified'\u001b[0m\u001b[1;33m:\u001b[0m\u001b[1;34m'True'\u001b[0m\u001b[1;33m}\u001b[0m\u001b[1;33m\u001b[0m\u001b[1;33m\u001b[0m\u001b[0m\n\u001b[1;32m----> 3\u001b[1;33m \u001b[0mprint\u001b[0m\u001b[1;33m(\u001b[0m\u001b[0mcustomer\u001b[0m\u001b[1;33m[\u001b[0m\u001b[1;34m'sr_no'\u001b[0m\u001b[1;33m]\u001b[0m\u001b[1;33m)\u001b[0m\u001b[1;33m\u001b[0m\u001b[1;33m\u001b[0m\u001b[0m\n\u001b[0m",
      "\u001b[1;31mKeyError\u001b[0m: 'sr_no'"
     ]
    }
   ],
   "source": [
    "#if key is not present in dictionarie then error accure\n",
    "customer = {'name':'Mann', 'age':'19', 'is_verified':'True'}\n",
    "print(customer['sr_no'])"
   ]
  },
  {
   "cell_type": "code",
   "execution_count": 8,
   "metadata": {},
   "outputs": [
    {
     "name": "stdout",
     "output_type": "stream",
     "text": [
      "Mann\n"
     ]
    }
   ],
   "source": [
    "#get() method\n",
    "customer = {'name':'Mann', 'age':'19', 'is_verified':'True'}\n",
    "print(customer.get('name'))"
   ]
  },
  {
   "cell_type": "code",
   "execution_count": 9,
   "metadata": {},
   "outputs": [
    {
     "name": "stdout",
     "output_type": "stream",
     "text": [
      "None\n"
     ]
    }
   ],
   "source": [
    "#If we pass invalid key then return None \n",
    "customer = {'name':'Mann', 'age':'19', 'is_verified':'True'}\n",
    "print(customer.get('sr_no'))"
   ]
  },
  {
   "cell_type": "code",
   "execution_count": 12,
   "metadata": {},
   "outputs": [
    {
     "name": "stdout",
     "output_type": "stream",
     "text": [
      "123456789\n"
     ]
    }
   ],
   "source": [
    "#set default value if key is not present in dictionarie then print default value\n",
    "customer = {'name':'Mann', 'age':'19', 'is_verified':'True'}\n",
    "print(customer.get('Mobile_no','123456789'))"
   ]
  },
  {
   "cell_type": "code",
   "execution_count": 13,
   "metadata": {},
   "outputs": [
    {
     "name": "stdout",
     "output_type": "stream",
     "text": [
      "Mann\n"
     ]
    }
   ],
   "source": [
    "customer = {'name':'Mann', 'age':'19', 'is_verified':'True'}\n",
    "print(customer.get('name','default'))"
   ]
  },
  {
   "cell_type": "markdown",
   "metadata": {},
   "source": [
    "# Add new key/value pair"
   ]
  },
  {
   "cell_type": "code",
   "execution_count": 14,
   "metadata": {},
   "outputs": [
    {
     "name": "stdout",
     "output_type": "stream",
     "text": [
      "{'name': 'Mann', 'age': '19', 'Mobile_no': 123456789}\n"
     ]
    }
   ],
   "source": [
    "customer = {'name':'Mann', 'age':'19'}\n",
    "customer['Mobile_no']=123456789\n",
    "print(customer)"
   ]
  },
  {
   "cell_type": "markdown",
   "metadata": {},
   "source": [
    "# Iterating dictionary"
   ]
  },
  {
   "cell_type": "code",
   "execution_count": 1,
   "metadata": {},
   "outputs": [
    {
     "name": "stdout",
     "output_type": "stream",
     "text": [
      "a 0\n",
      "b 1\n",
      "c 2\n",
      "d 3\n",
      "e 4\n",
      "f 5\n"
     ]
    }
   ],
   "source": [
    "A = dict(zip('abcdef', list(range(6))))\n",
    "for key in A:\n",
    "    print(key, A[key])"
   ]
  },
  {
   "cell_type": "code",
   "execution_count": 6,
   "metadata": {},
   "outputs": [
    {
     "name": "stdout",
     "output_type": "stream",
     "text": [
      "zero 0\n",
      "one 1\n",
      "two 2\n",
      "three 3\n",
      "four 4\n",
      "five 5\n"
     ]
    }
   ],
   "source": [
    "A = dict(zip(['zero','one','two','three','four','five'],list(range(6))))\n",
    "for key,val in A.items():\n",
    "    print(key,val)"
   ]
  },
  {
   "cell_type": "markdown",
   "metadata": {},
   "source": [
    "\n",
    "\n",
    "\n",
    "\n",
    "# Examples : "
   ]
  },
  {
   "cell_type": "markdown",
   "metadata": {},
   "source": [
    "Number of occurrences\n",
    "\n",
    "The text is given in a single line. For each word of the text count the number of its occurrences before it.\n",
    "A word is a sequence of non-whitespace characters. Two consecutive words are separated by one or more spaces. Punctiation marks are a part of a word, by this definition."
   ]
  },
  {
   "cell_type": "code",
   "execution_count": 4,
   "metadata": {},
   "outputs": [
    {
     "name": "stdout",
     "output_type": "stream",
     "text": [
      "one two one three one two\n",
      "0 0 1 0 2 1 "
     ]
    }
   ],
   "source": [
    "#Solution1\n",
    "worldlist = list(input().split())\n",
    "dic = {}\n",
    "for item in worldlist:\n",
    "    if item in dic:\n",
    "        dic[item]+=1\n",
    "    else:\n",
    "        dic[item]=0\n",
    "    print(dic[item],end=' ')"
   ]
  },
  {
   "cell_type": "code",
   "execution_count": 1,
   "metadata": {},
   "outputs": [
    {
     "name": "stdout",
     "output_type": "stream",
     "text": [
      "one two one tho three\n",
      "0 0 1 0 0 "
     ]
    }
   ],
   "source": [
    "#Solution2\n",
    "worldlist = list(input().split())\n",
    "dic = {}\n",
    "for word in worldlist:\n",
    "    dic[word] = dic.get(word, 0) + 1\n",
    "    print(dic[word] - 1, end=' ')"
   ]
  },
  {
   "cell_type": "code",
   "execution_count": null,
   "metadata": {},
   "outputs": [],
   "source": []
  }
 ],
 "metadata": {
  "kernelspec": {
   "display_name": "Python 3",
   "language": "python",
   "name": "python3"
  },
  "language_info": {
   "codemirror_mode": {
    "name": "ipython",
    "version": 3
   },
   "file_extension": ".py",
   "mimetype": "text/x-python",
   "name": "python",
   "nbconvert_exporter": "python",
   "pygments_lexer": "ipython3",
   "version": "3.7.4"
  }
 },
 "nbformat": 4,
 "nbformat_minor": 2
}
