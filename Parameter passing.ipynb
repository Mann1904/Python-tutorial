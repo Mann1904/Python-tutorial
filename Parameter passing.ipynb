{
 "cells": [
  {
   "cell_type": "markdown",
   "metadata": {},
   "source": [
    "# Parameter Passing"
   ]
  },
  {
   "cell_type": "markdown",
   "metadata": {},
   "source": [
    " Python uses a mechanism, which is known as \"Call-by-Object\", sometimes also called \"Call by Object Reference\" or \"Call by Sharing\".\n"
   ]
  },
  {
   "cell_type": "markdown",
   "metadata": {},
   "source": [
    "If you pass immutable arguments like integers, strings or tuples to a function, the passing acts like call-by-value. The object reference is passed to the function parameters. They can't be changed within the function, because they can't be changed at all, i.e. they are immutable. \n",
    "\n",
    "It's different, if we pass mutable arguments. They are also passed by object reference, but they can be changed in place in the function. If we pass a list to a function, we have to consider two cases: Elements of a list can be changed in place, i.e. the list will be changed even in the caller's scope. If a new list is assigned to the name, the old list will not be affected, i.e. the list in the caller's scope will remain untouched."
   ]
  },
  {
   "cell_type": "code",
   "execution_count": 1,
   "metadata": {},
   "outputs": [
    {
     "name": "stdout",
     "output_type": "stream",
     "text": [
      "x= 20 id= 140707264893936\n",
      "x= 50 id= 140707264894896\n",
      "a= 20 id= 140707264893936\n"
     ]
    }
   ],
   "source": [
    "# pass immutable argument integer\n",
    "def demo(x):\n",
    "    print(\"x=\",x,\"id=\",id(x))\n",
    "    x=50\n",
    "    print(\"x=\",x,\"id=\",id(x))\n",
    "    \n",
    "a = 20\n",
    "demo(a)\n",
    "print(\"a=\",a,\"id=\",id(a))"
   ]
  },
  {
   "cell_type": "code",
   "execution_count": 2,
   "metadata": {},
   "outputs": [
    {
     "name": "stdout",
     "output_type": "stream",
     "text": [
      "lst =  [1, 2, 3, 4, 5] id= 1538472669320\n",
      "lst =  [100, 2, 3, 4, 5] id= 1538472669320\n",
      "list =  [100, 2, 3, 4, 5] id =  1538472669320\n"
     ]
    }
   ],
   "source": [
    "# pass mutable argument list\n",
    "def demo(lst):\n",
    "    print(\"lst = \",lst,\"id=\",id(lst))\n",
    "    lst[0] = 100\n",
    "    print(\"lst = \",lst,\"id=\",id(lst))\n",
    "    \n",
    "list = [1,2,3,4,5]\n",
    "demo(list)\n",
    "print(\"list = \",list,\"id = \",id(list))"
   ]
  },
  {
   "cell_type": "markdown",
   "metadata": {},
   "source": [
    " We expect that the function is not changing this list. First let's have a look at a function which has no side effects. As a new list is assigned to the parameter list in func1(), a new memory location is created for list and list becomes a local variable."
   ]
  },
  {
   "cell_type": "code",
   "execution_count": 3,
   "metadata": {},
   "outputs": [
    {
     "name": "stdout",
     "output_type": "stream",
     "text": [
      "list =  [1, 2, 3, 4, 5] id =  1538472663688\n",
      "list =  [100, 200] id =  1538472670152\n",
      "lst =  [1, 2, 3, 4, 5] id =  1538472663688\n"
     ]
    }
   ],
   "source": [
    "# not change actual list\n",
    "def func1(list):\n",
    "    print(\"list = \",list,\"id = \",id(list))\n",
    "    list = [100,200]\n",
    "    print(\"list = \",list,\"id = \",id(list))\n",
    "    \n",
    "lst = [1,2,3,4,5]\n",
    "func1(lst)\n",
    "print(\"lst = \",lst,\"id = \",id(lst))"
   ]
  },
  {
   "cell_type": "markdown",
   "metadata": {},
   "source": [
    "This changes drastically, if we include something in the list by using +=. To show this, we have a different function func2() in the following example:"
   ]
  },
  {
   "cell_type": "code",
   "execution_count": 4,
   "metadata": {},
   "outputs": [
    {
     "name": "stdout",
     "output_type": "stream",
     "text": [
      "list =  [1, 2, 3, 4, 5] id =  1538472670152\n",
      "list =  [1, 2, 3, 4, 5, 100, 200] id =  1538472670152\n",
      "lst =  [1, 2, 3, 4, 5, 100, 200] id =  1538472670152\n"
     ]
    }
   ],
   "source": [
    "# change actual list\n",
    "def func2(list):\n",
    "    print(\"list = \",list,\"id = \",id(list))\n",
    "    list += [100,200]\n",
    "    print(\"list = \",list,\"id = \",id(list))\n",
    "    \n",
    "lst = [1,2,3,4,5]\n",
    "func2(lst)\n",
    "print(\"lst = \",lst,\"id = \",id(lst))"
   ]
  },
  {
   "cell_type": "markdown",
   "metadata": {},
   "source": [
    "The user of the function can prevent this by passing a copy to the function. In this case a shallow copy is sufficient:"
   ]
  },
  {
   "cell_type": "code",
   "execution_count": 8,
   "metadata": {},
   "outputs": [
    {
     "name": "stdout",
     "output_type": "stream",
     "text": [
      "list =  [1, 2, 3, 4, 5] id =  1538474620488\n",
      "list =  [1, 2, 3, 4, 5, 100, 200] id =  1538474620488\n",
      "lst =  [1, 2, 3, 4, 5] id =  1538472602568\n"
     ]
    }
   ],
   "source": [
    "# not change actual list\n",
    "def func2(list):\n",
    "    print(\"list = \",list,\"id = \",id(list))\n",
    "    list += [100,200]\n",
    "    print(\"list = \",list,\"id = \",id(list))\n",
    "    \n",
    "lst = [1,2,3,4,5]\n",
    "func2(lst[:]) # passing a copy to the function\n",
    "print(\"lst = \",lst,\"id = \",id(lst))"
   ]
  },
  {
   "cell_type": "code",
   "execution_count": null,
   "metadata": {},
   "outputs": [],
   "source": []
  }
 ],
 "metadata": {
  "kernelspec": {
   "display_name": "Python 3",
   "language": "python",
   "name": "python3"
  },
  "language_info": {
   "codemirror_mode": {
    "name": "ipython",
    "version": 3
   },
   "file_extension": ".py",
   "mimetype": "text/x-python",
   "name": "python",
   "nbconvert_exporter": "python",
   "pygments_lexer": "ipython3",
   "version": "3.7.5"
  }
 },
 "nbformat": 4,
 "nbformat_minor": 2
}
