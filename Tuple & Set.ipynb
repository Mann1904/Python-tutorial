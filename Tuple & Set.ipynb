{
 "cells": [
  {
   "cell_type": "markdown",
   "metadata": {},
   "source": [
    "# Tuple"
   ]
  },
  {
   "cell_type": "markdown",
   "metadata": {},
   "source": [
    "Tuple is immutable. tuples are similar to list so we can use them to store a list of item \n",
    "but unlike list we cannot modify them,\n",
    "we cannot add new item,\n",
    "we cannot remove item."
   ]
  },
  {
   "cell_type": "code",
   "execution_count": 1,
   "metadata": {},
   "outputs": [
    {
     "name": "stdout",
     "output_type": "stream",
     "text": [
      "1\n",
      "7\n",
      "(5, 3, 6)\n"
     ]
    }
   ],
   "source": [
    "num = (1,5,3,6,7)\n",
    "print(num[0])\n",
    "print(num[-1])\n",
    "print(num[1:-1])"
   ]
  },
  {
   "cell_type": "markdown",
   "metadata": {},
   "source": [
    "# Add two tuple"
   ]
  },
  {
   "cell_type": "code",
   "execution_count": 2,
   "metadata": {},
   "outputs": [
    {
     "name": "stdout",
     "output_type": "stream",
     "text": [
      "(1, 2, 3, 'a', 'b', 'c')\n"
     ]
    }
   ],
   "source": [
    "n1 = (1,2,3)\n",
    "n2 = ('a','b','c')\n",
    "print(n1+n2)"
   ]
  },
  {
   "cell_type": "markdown",
   "metadata": {},
   "source": [
    "# Tuple inbuilt functions"
   ]
  },
  {
   "cell_type": "code",
   "execution_count": 3,
   "metadata": {},
   "outputs": [
    {
     "name": "stdout",
     "output_type": "stream",
     "text": [
      "2\n"
     ]
    }
   ],
   "source": [
    "#count()\n",
    "n = (3,6,2,5,3)\n",
    "print(n.count(3))"
   ]
  },
  {
   "cell_type": "code",
   "execution_count": 4,
   "metadata": {},
   "outputs": [
    {
     "name": "stdout",
     "output_type": "stream",
     "text": [
      "1\n"
     ]
    }
   ],
   "source": [
    "#index()\n",
    "print(n.index(6))"
   ]
  },
  {
   "cell_type": "markdown",
   "metadata": {},
   "source": [
    "# Unpacking"
   ]
  },
  {
   "cell_type": "markdown",
   "metadata": {},
   "source": [
    "This features available in both tuples & list"
   ]
  },
  {
   "cell_type": "code",
   "execution_count": 5,
   "metadata": {},
   "outputs": [
    {
     "name": "stdout",
     "output_type": "stream",
     "text": [
      "1,2,3\n"
     ]
    }
   ],
   "source": [
    "coordinates = (1,2,3)\n",
    "x,y,z = coordinates\n",
    "print(f'{x},{y},{z}')"
   ]
  },
  {
   "cell_type": "markdown",
   "metadata": {},
   "source": [
    "# Set"
   ]
  },
  {
   "cell_type": "markdown",
   "metadata": {},
   "source": [
    "Set is mutable.A set is a collection which is unordered and unindexed. In Python sets are written with curly brackets.\n",
    "Once a set is created, you cannot change its items, but you can add & delete items.Any immutable data type can be an element of a set: a number, a string, a tuple. Mutable (changeable) data types cannot be elements of the set. In particular, list cannot be an element of a set (but tuple can), and another set cannot be an element of a set. The requirement of immutability follows from the way how do computers represent sets in memory."
   ]
  },
  {
   "cell_type": "code",
   "execution_count": 6,
   "metadata": {},
   "outputs": [
    {
     "name": "stdout",
     "output_type": "stream",
     "text": [
      "{1, 3, 5, 6, 8, 9}\n"
     ]
    }
   ],
   "source": [
    "#set define\n",
    "num = {3,6,5,8,9,1,6,3}\n",
    "print(num)"
   ]
  },
  {
   "cell_type": "code",
   "execution_count": 7,
   "metadata": {},
   "outputs": [
    {
     "name": "stdout",
     "output_type": "stream",
     "text": [
      "2\n",
      "3\n",
      "4\n",
      "5\n",
      "6\n"
     ]
    }
   ],
   "source": [
    "#Access element in a set by referring\n",
    "set1 = {2,3,4,2,5,6,3}\n",
    "for item in set1:\n",
    "    print(item)"
   ]
  },
  {
   "cell_type": "markdown",
   "metadata": {},
   "source": [
    "\n",
    "# Add item in set"
   ]
  },
  {
   "cell_type": "code",
   "execution_count": 8,
   "metadata": {},
   "outputs": [
    {
     "name": "stdout",
     "output_type": "stream",
     "text": [
      "{3, 4, 6, 7, 25}\n"
     ]
    }
   ],
   "source": [
    "num = {3,7,4,6}\n",
    "num.add(25)\n",
    "print(num)"
   ]
  },
  {
   "cell_type": "markdown",
   "metadata": {},
   "source": [
    "# Add two set"
   ]
  },
  {
   "cell_type": "code",
   "execution_count": 9,
   "metadata": {},
   "outputs": [
    {
     "name": "stdout",
     "output_type": "stream",
     "text": [
      "{33, 2, 4, 6, 8, 11, 22}\n",
      "{1, 2, 3, 4, 5}\n",
      "{1, 2, 3, 4, 5}\n"
     ]
    }
   ],
   "source": [
    "#add multiple item in set\n",
    "num = {4,8,6,2}\n",
    "num.update([11,22,33])\n",
    "print(num)\n",
    "\n",
    "\n",
    "#The union() method returns a new set with all items from both sets\n",
    "n1 = {1,2,3}\n",
    "n2 = {4,5,3}\n",
    "# you can also use n1|n2 in place of n1.union(n2)\n",
    "new = n1.union(n2)\n",
    "print(new)\n",
    "\n",
    "\n",
    "#The update() method inserts the items in n1 into n2:\n",
    "n1.update(n2)\n",
    "print(n1)"
   ]
  },
  {
   "cell_type": "markdown",
   "metadata": {},
   "source": [
    "\n",
    "# Remove item from set"
   ]
  },
  {
   "cell_type": "markdown",
   "metadata": {},
   "source": [
    "#To remove an item in a set, use the remove(), or the discard() method."
   ]
  },
  {
   "cell_type": "code",
   "execution_count": 10,
   "metadata": {},
   "outputs": [
    {
     "name": "stdout",
     "output_type": "stream",
     "text": [
      "{8, 2, 6}\n"
     ]
    },
    {
     "ename": "KeyError",
     "evalue": "100",
     "output_type": "error",
     "traceback": [
      "\u001b[1;31m---------------------------------------------------------------------------\u001b[0m",
      "\u001b[1;31mKeyError\u001b[0m                                  Traceback (most recent call last)",
      "\u001b[1;32m<ipython-input-10-ff5aa0476a06>\u001b[0m in \u001b[0;36m<module>\u001b[1;34m\u001b[0m\n\u001b[0;32m      5\u001b[0m \u001b[1;33m\u001b[0m\u001b[0m\n\u001b[0;32m      6\u001b[0m \u001b[1;31m#If the item to remove does not exist, remove() will raise an error.\u001b[0m\u001b[1;33m\u001b[0m\u001b[1;33m\u001b[0m\u001b[1;33m\u001b[0m\u001b[0m\n\u001b[1;32m----> 7\u001b[1;33m \u001b[0mnum\u001b[0m\u001b[1;33m.\u001b[0m\u001b[0mremove\u001b[0m\u001b[1;33m(\u001b[0m\u001b[1;36m100\u001b[0m\u001b[1;33m)\u001b[0m\u001b[1;33m\u001b[0m\u001b[1;33m\u001b[0m\u001b[0m\n\u001b[0m",
      "\u001b[1;31mKeyError\u001b[0m: 100"
     ]
    }
   ],
   "source": [
    "#remove()\n",
    "num = {2,6,4,8}\n",
    "num.remove(4)\n",
    "print(num)\n",
    "\n",
    "#If the item to remove does not exist, remove() will raise an error.\n",
    "num.remove(100)"
   ]
  },
  {
   "cell_type": "code",
   "execution_count": 11,
   "metadata": {},
   "outputs": [
    {
     "name": "stdout",
     "output_type": "stream",
     "text": [
      "{1, 4, 6}\n"
     ]
    }
   ],
   "source": [
    "#discard()\n",
    "num={1,6,8,4,6}\n",
    "num.discard(8)\n",
    "print(num)\n",
    "\n",
    "#If the item to remove does not exist, discard() will NOT raise an error.\n",
    "num.discard(100)"
   ]
  },
  {
   "cell_type": "markdown",
   "metadata": {},
   "source": [
    "You can also use the pop(), method to remove an item, but this method will remove the last item. Remember that sets are unordered, so you will not know what item that gets removed.\n",
    "The return value of the pop() method is the removed item."
   ]
  },
  {
   "cell_type": "code",
   "execution_count": 12,
   "metadata": {},
   "outputs": [
    {
     "name": "stdout",
     "output_type": "stream",
     "text": [
      "1\n"
     ]
    }
   ],
   "source": [
    "#pop()\n",
    "num = {3,7,6,1,9}\n",
    "x = num.pop()\n",
    "print(x)"
   ]
  },
  {
   "cell_type": "code",
   "execution_count": 13,
   "metadata": {},
   "outputs": [
    {
     "name": "stdout",
     "output_type": "stream",
     "text": [
      "set()\n"
     ]
    }
   ],
   "source": [
    "#clear()\n",
    "#The clear() method empties the set\n",
    "num={2,6,4,5}\n",
    "num.clear()\n",
    "print(num)"
   ]
  },
  {
   "cell_type": "code",
   "execution_count": 14,
   "metadata": {},
   "outputs": [
    {
     "ename": "NameError",
     "evalue": "name 'num' is not defined",
     "output_type": "error",
     "traceback": [
      "\u001b[1;31m---------------------------------------------------------------------------\u001b[0m",
      "\u001b[1;31mNameError\u001b[0m                                 Traceback (most recent call last)",
      "\u001b[1;32m<ipython-input-14-bfaef1490377>\u001b[0m in \u001b[0;36m<module>\u001b[1;34m\u001b[0m\n\u001b[0;32m      4\u001b[0m \u001b[1;32mdel\u001b[0m \u001b[0mnum\u001b[0m\u001b[1;33m\u001b[0m\u001b[1;33m\u001b[0m\u001b[0m\n\u001b[0;32m      5\u001b[0m \u001b[1;31m#if we try to print set than will raise an error.\u001b[0m\u001b[1;33m\u001b[0m\u001b[1;33m\u001b[0m\u001b[1;33m\u001b[0m\u001b[0m\n\u001b[1;32m----> 6\u001b[1;33m \u001b[0mprint\u001b[0m\u001b[1;33m(\u001b[0m\u001b[0mnum\u001b[0m\u001b[1;33m)\u001b[0m\u001b[1;33m\u001b[0m\u001b[1;33m\u001b[0m\u001b[0m\n\u001b[0m",
      "\u001b[1;31mNameError\u001b[0m: name 'num' is not defined"
     ]
    }
   ],
   "source": [
    "#del\n",
    "#The del keyword will delete the set completely:\n",
    "num = {2,6,4,5}\n",
    "del num\n",
    "#if we try to print set than will raise an error.\n",
    "print(num)"
   ]
  },
  {
   "cell_type": "markdown",
   "metadata": {},
   "source": [
    "# Set operations"
   ]
  },
  {
   "cell_type": "code",
   "execution_count": 15,
   "metadata": {},
   "outputs": [
    {
     "name": "stdout",
     "output_type": "stream",
     "text": [
      "True\n"
     ]
    }
   ],
   "source": [
    "# s1 == s2  : s1 is equivalent to s2\n",
    "s1 = {3,6,7}\n",
    "s2 = {3,6,7,3}\n",
    "print(s1==s2)"
   ]
  },
  {
   "cell_type": "code",
   "execution_count": 16,
   "metadata": {},
   "outputs": [
    {
     "name": "stdout",
     "output_type": "stream",
     "text": [
      "False\n"
     ]
    }
   ],
   "source": [
    "# s1 != s2  : s1 is not equivalent to s2\n",
    "s1 = {3,6,7}\n",
    "s2 = {3,6,7,3}\n",
    "print(s1!=s2)"
   ]
  },
  {
   "cell_type": "code",
   "execution_count": 17,
   "metadata": {},
   "outputs": [
    {
     "name": "stdout",
     "output_type": "stream",
     "text": [
      "{3, 6, 7, 8, 9}\n",
      "{9, 3, 6, 7}\n"
     ]
    }
   ],
   "source": [
    "# s1 | s2\n",
    "# s1.union(s2)\n",
    "# Returns a set which is the union of sets A and B.\n",
    "\n",
    "s1 = {3,6,7,9}\n",
    "s2 = {3,6,7,3,8}\n",
    "s3 = s1|s2\n",
    "print(s3)\n",
    "print(s1)"
   ]
  },
  {
   "cell_type": "code",
   "execution_count": 18,
   "metadata": {},
   "outputs": [
    {
     "name": "stdout",
     "output_type": "stream",
     "text": [
      "{3, 6, 7}\n"
     ]
    }
   ],
   "source": [
    "# s1 |= s2\n",
    "# s1.update(s2)\n",
    "# Adds all elements of array s2 to the set s1.\n",
    "s1 = {3,6,7}\n",
    "s2 = {3,6,7,3}\n",
    "s1.update(s2)\n",
    "print(s1)"
   ]
  },
  {
   "cell_type": "code",
   "execution_count": 19,
   "metadata": {},
   "outputs": [
    {
     "name": "stdout",
     "output_type": "stream",
     "text": [
      "{4, 5}\n"
     ]
    }
   ],
   "source": [
    "# s1 & s2\n",
    "# s1.intersection(s2)\n",
    "# Returns a set which is the intersection of sets s1 and s2.\n",
    "\n",
    "s1 = {1,2,4,5}\n",
    "s2 = {4,7,5,9}\n",
    "s3 = s1.intersection(s2) # s1 & s2\n",
    "print(s3)"
   ]
  },
  {
   "cell_type": "code",
   "execution_count": 20,
   "metadata": {},
   "outputs": [
    {
     "name": "stdout",
     "output_type": "stream",
     "text": [
      "{4, 5}\n"
     ]
    }
   ],
   "source": [
    "# s1 &= s2\n",
    "# s1.intersection_update(s2)\n",
    "# Leaves in the set s1 only items that belong to the set s2.\n",
    "\n",
    "s1 = {1,2,4,5}\n",
    "s2 = {4,7,5,8,9}\n",
    "s1.intersection_update(s2)\n",
    "print(s1)"
   ]
  },
  {
   "cell_type": "code",
   "execution_count": 21,
   "metadata": {},
   "outputs": [
    {
     "name": "stdout",
     "output_type": "stream",
     "text": [
      "{2, 3, 6}\n",
      "{2, 3, 6, 7, 8}\n"
     ]
    }
   ],
   "source": [
    "# A - B\n",
    "# A.difference(B)\n",
    "# Returns the set difference of A and B (the elements included in A, but not included in B).\n",
    "\n",
    "A = {2,3,6,7,8}\n",
    "B = {7,8}\n",
    "C = A.difference(B) # A - B\n",
    "print(C)\n",
    "print(A)"
   ]
  },
  {
   "cell_type": "code",
   "execution_count": 22,
   "metadata": {},
   "outputs": [
    {
     "name": "stdout",
     "output_type": "stream",
     "text": [
      "{2, 3, 6}\n"
     ]
    }
   ],
   "source": [
    "# A -= B\n",
    "# A.difference_update(B)\n",
    "# Removes all elements of B from the set A.\n",
    "\n",
    "A = {2,3,6,7,8}\n",
    "B = {7,8}\n",
    "A.difference_update(B)\n",
    "print(A)"
   ]
  },
  {
   "cell_type": "code",
   "execution_count": 23,
   "metadata": {},
   "outputs": [
    {
     "name": "stdout",
     "output_type": "stream",
     "text": [
      "{1, 2, 3, 9}\n",
      "{2, 3, 6, 7, 8}\n"
     ]
    }
   ],
   "source": [
    "# A ^ B\n",
    "# A.symmetric_difference(B)\n",
    "# Returns the symmetric difference of sets A and B \n",
    "#(the elements belonging to either A or B, but not to both sets simultaneously).\n",
    "\n",
    "A = {2,3,6,7,8}\n",
    "B = {6,7,8,1,9}\n",
    "C = A^B  # A.symmentic_difference(B)\n",
    "print(C)\n",
    "print(A)"
   ]
  },
  {
   "cell_type": "code",
   "execution_count": 24,
   "metadata": {},
   "outputs": [
    {
     "name": "stdout",
     "output_type": "stream",
     "text": [
      "{1, 2, 3, 9}\n"
     ]
    }
   ],
   "source": [
    "# A ^= B\n",
    "# A.symmetric_difference_update(B)\n",
    "# Writes in A the symmetric difference of sets A and B.\n",
    "\n",
    "A = {2,3,6,7,8}\n",
    "B = {6,7,8,1,9}\n",
    "A.symmetric_difference_update(B)\n",
    "print(A)"
   ]
  },
  {
   "cell_type": "code",
   "execution_count": 25,
   "metadata": {},
   "outputs": [
    {
     "name": "stdout",
     "output_type": "stream",
     "text": [
      "True\n"
     ]
    }
   ],
   "source": [
    "# A <= B\n",
    "# A.issubset(B)\n",
    "# Returns true if A is a subset of B.\n",
    "\n",
    "A = {1,2}\n",
    "B = {1,2,3,4}\n",
    "C = A <= B\n",
    "print(C)"
   ]
  },
  {
   "cell_type": "code",
   "execution_count": 26,
   "metadata": {},
   "outputs": [
    {
     "name": "stdout",
     "output_type": "stream",
     "text": [
      "False\n"
     ]
    }
   ],
   "source": [
    "# A >= B\n",
    "# A.issuperset(B)\n",
    "# Returns true if B is a subset of A.\n",
    "\n",
    "A = {1,2}\n",
    "B = {1,2,3,4}\n",
    "C = A >= B\n",
    "print(C)"
   ]
  },
  {
   "cell_type": "code",
   "execution_count": 27,
   "metadata": {},
   "outputs": [
    {
     "name": "stdout",
     "output_type": "stream",
     "text": [
      "True\n"
     ]
    }
   ],
   "source": [
    "# A < B\n",
    "# Equivalent to A <= B and A != B\n",
    "\n",
    "A = {1,2}\n",
    "B = {1,2,3,4}\n",
    "C = A < B\n",
    "print(C)"
   ]
  },
  {
   "cell_type": "code",
   "execution_count": 28,
   "metadata": {},
   "outputs": [
    {
     "name": "stdout",
     "output_type": "stream",
     "text": [
      "False\n"
     ]
    }
   ],
   "source": [
    "# A > B\n",
    "# Equivalent to A >= B and A != B\n",
    "\n",
    "A = {1,2}\n",
    "B = {1,2,3,4}\n",
    "C = A > B\n",
    "print(C)"
   ]
  },
  {
   "cell_type": "markdown",
   "metadata": {},
   "source": [
    "# Example"
   ]
  },
  {
   "cell_type": "code",
   "execution_count": 29,
   "metadata": {},
   "outputs": [
    {
     "name": "stdout",
     "output_type": "stream",
     "text": [
      "\n",
      "0\n"
     ]
    }
   ],
   "source": [
    "# The number of distinct numbers\n",
    "\n",
    "a  = input()\n",
    "s1 = set(a.split())  #s1 = set(input().split())\n",
    "print(len(s1))\n",
    "\n",
    "#another solution : print(len(set(input().split())))"
   ]
  },
  {
   "cell_type": "code",
   "execution_count": 30,
   "metadata": {},
   "outputs": [
    {
     "name": "stdout",
     "output_type": "stream",
     "text": [
      "\n",
      "\n",
      "0\n"
     ]
    }
   ],
   "source": [
    "# The number of equal numbers between two list\n",
    "\n",
    "s1 = set(input().split())\n",
    "s2 = set(input().split())\n",
    "result = s1.intersection(s2)\n",
    "print(len(result))\n",
    "\n",
    "#another solution : print(len(set(input().split()) & set(input().split())))"
   ]
  },
  {
   "cell_type": "code",
   "execution_count": 36,
   "metadata": {},
   "outputs": [
    {
     "name": "stdout",
     "output_type": "stream",
     "text": [
      "3 4 6 8 1\n",
      "3 4 7\n",
      "3 4 "
     ]
    }
   ],
   "source": [
    "#Given two lists of numbers. Find all the numbers that occur in both the first and the second list and print them in ascending order.\n",
    "\n",
    "s1 = set(input().split())\n",
    "s2 = set(input().split())\n",
    "s3 = sorted(s1.intersection(s2))\n",
    "for i in s3:\n",
    "    print(i,end=' ')\n",
    "    \n",
    "# print(*sorted(set(input().split()) & set(input().split()), key=int))"
   ]
  }
 ],
 "metadata": {
  "kernelspec": {
   "display_name": "Python 3",
   "language": "python",
   "name": "python3"
  },
  "language_info": {
   "codemirror_mode": {
    "name": "ipython",
    "version": 3
   },
   "file_extension": ".py",
   "mimetype": "text/x-python",
   "name": "python",
   "nbconvert_exporter": "python",
   "pygments_lexer": "ipython3",
   "version": "3.7.4"
  }
 },
 "nbformat": 4,
 "nbformat_minor": 2
}
